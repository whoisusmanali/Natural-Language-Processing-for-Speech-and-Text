{
 "cells": [
  {
   "cell_type": "code",
   "execution_count": 5,
   "id": "9f682d84",
   "metadata": {},
   "outputs": [
    {
     "name": "stderr",
     "output_type": "stream",
     "text": [
      "[nltk_data] Downloading package punkt to /Users/usmanali/nltk_data...\n",
      "[nltk_data]   Package punkt is already up-to-date!\n"
     ]
    },
    {
     "data": {
      "text/plain": [
       "['Natural',\n",
       " 'Language',\n",
       " 'Processing',\n",
       " ',',\n",
       " 'implemented',\n",
       " 'by',\n",
       " 'using',\n",
       " 'the',\n",
       " 'Text',\n",
       " '!',\n",
       " 'with',\n",
       " 'techniques',\n",
       " '.',\n",
       " 'Not',\n",
       " 'the',\n",
       " 'Speech']"
      ]
     },
     "execution_count": 5,
     "metadata": {},
     "output_type": "execute_result"
    }
   ],
   "source": [
    "# Tokenization by using the NLTK-Tokenizer\n",
    "import nltk\n",
    "nltk.download('punkt')\n",
    "from nltk.tokenize import word_tokenize\n",
    "practice_sentece = \"Natural Language Processing, implemented by using the Text! with techniques. Not the Speech\"\n",
    "tokens = word_tokenize(practice_sentece)\n",
    "tokens"
   ]
  },
  {
   "cell_type": "code",
   "execution_count": 7,
   "id": "56ffb8ae",
   "metadata": {},
   "outputs": [
    {
     "data": {
      "text/plain": [
       "['Natural',\n",
       " 'Language',\n",
       " 'Processing,',\n",
       " 'implemented',\n",
       " 'by',\n",
       " 'using',\n",
       " 'the',\n",
       " 'Text!',\n",
       " 'with',\n",
       " 'techniques.',\n",
       " 'Not',\n",
       " 'the',\n",
       " 'Speech']"
      ]
     },
     "execution_count": 7,
     "metadata": {},
     "output_type": "execute_result"
    }
   ],
   "source": [
    "#Tokensization by using the NLTK-RegularExpressionTokenization\n",
    "from nltk.tokenize import RegexpTokenizer\n",
    "ret = RegexpTokenizer(r'\\s+', gaps= True)\n",
    "tokens1 = ret.tokenize(practice_sentece)\n",
    "tokens1"
   ]
  },
  {
   "cell_type": "code",
   "execution_count": 8,
   "id": "f5e12184",
   "metadata": {},
   "outputs": [
    {
     "data": {
      "text/plain": [
       "['Natural Language Processing, implemented by using the Text!',\n",
       " 'with techniques.',\n",
       " 'Not the Speech']"
      ]
     },
     "execution_count": 8,
     "metadata": {},
     "output_type": "execute_result"
    }
   ],
   "source": [
    "#Sentence Tokenization\n",
    "from nltk.tokenize import sent_tokenize\n",
    "tokens2 = sent_tokenize(practice_sentece)\n",
    "tokens2"
   ]
  },
  {
   "cell_type": "code",
   "execution_count": 10,
   "id": "4ad68b4e",
   "metadata": {},
   "outputs": [
    {
     "name": "stdout",
     "output_type": "stream",
     "text": [
      "Tokens:  ['natur', 'languag', 'process', ',', 'implement', 'by', 'use', 'the', 'text', '!', 'with', 'techniqu', '.', 'not', 'the', 'speech']\n",
      "Tokens1:  ['natur', 'languag', 'processing,', 'implement', 'by', 'use', 'the', 'text!', 'with', 'techniques.', 'not', 'the', 'speech']\n",
      "Tokens2:  ['natural language processing, implemented by using the text!', 'with techniques.', 'not the speech']\n"
     ]
    }
   ],
   "source": [
    "#Stemming on the words tokens\n",
    "from nltk.stem import PorterStemmer\n",
    "stemmer = PorterStemmer()\n",
    "stem_word = [stemmer.stem(word) for word in tokens]\n",
    "stem_word1 = [stemmer.stem(word) for word in tokens1]\n",
    "stem_word2 = [stemmer.stem(word) for word in tokens2]\n",
    "print(\"Tokens: \",stem_word)\n",
    "print(\"Tokens1: \", stem_word1)\n",
    "print(\"Tokens2: \",stem_word2)"
   ]
  },
  {
   "cell_type": "code",
   "execution_count": 14,
   "id": "fe025add",
   "metadata": {},
   "outputs": [
    {
     "name": "stdout",
     "output_type": "stream",
     "text": [
      "Lemmatization:  ['Natural', 'Language', 'Processing', ',', 'implement', 'by', 'use', 'the', 'Text', '!', 'with', 'techniques', '.', 'Not', 'the', 'Speech']\n",
      "Lemmatization1:  ['Natural', 'Language', 'Processing,', 'implement', 'by', 'use', 'the', 'Text!', 'with', 'techniques.', 'Not', 'the', 'Speech']\n",
      "Lemmatization2:  ['Natural Language Processing, implemented by using the Text!', 'with techniques.', 'Not the Speech']\n"
     ]
    },
    {
     "name": "stderr",
     "output_type": "stream",
     "text": [
      "[nltk_data] Downloading package wordnet to\n",
      "[nltk_data]     /Users/usmanali/nltk_data...\n",
      "[nltk_data]   Package wordnet is already up-to-date!\n"
     ]
    }
   ],
   "source": [
    "#Lemmatization\n",
    "from nltk.stem import WordNetLemmatizer\n",
    "from nltk.corpus import wordnet\n",
    "nltk.download('wordnet')\n",
    "\n",
    "lemmatizer = WordNetLemmatizer()\n",
    "lem = [lemmatizer.lemmatize(word, pos=wordnet.VERB) for word in tokens] \n",
    "lem1 = [lemmatizer.lemmatize(word, pos=wordnet.VERB) for word in tokens1]\n",
    "lem2 = [lemmatizer.lemmatize(word, pos=wordnet.VERB) for word in tokens2]\n",
    "print(\"Lemmatization: \", lem)\n",
    "print(\"Lemmatization1: \", lem1)\n",
    "print(\"Lemmatization2: \", lem2)"
   ]
  },
  {
   "cell_type": "code",
   "execution_count": null,
   "id": "7f930f6d",
   "metadata": {},
   "outputs": [],
   "source": []
  }
 ],
 "metadata": {
  "kernelspec": {
   "display_name": "Python 3 (ipykernel)",
   "language": "python",
   "name": "python3"
  },
  "language_info": {
   "codemirror_mode": {
    "name": "ipython",
    "version": 3
   },
   "file_extension": ".py",
   "mimetype": "text/x-python",
   "name": "python",
   "nbconvert_exporter": "python",
   "pygments_lexer": "ipython3",
   "version": "3.11.5"
  }
 },
 "nbformat": 4,
 "nbformat_minor": 5
}
